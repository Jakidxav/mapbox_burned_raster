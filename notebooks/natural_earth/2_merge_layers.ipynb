{
 "cells": [
  {
   "cell_type": "code",
   "execution_count": 1,
   "id": "6db5eee5-37bf-4f9e-a525-9401b1f21e57",
   "metadata": {},
   "outputs": [],
   "source": [
    "import glob\n",
    "import json\n",
    "import timeit\n",
    "import os\n",
    "import numpy as np\n"
   ]
  },
  {
   "cell_type": "code",
   "execution_count": 2,
   "id": "347203cd-ad25-4c19-8a95-49bedf50c479",
   "metadata": {},
   "outputs": [
    {
     "data": {
      "text/plain": [
       "['../../data/precip_vec2raster_ne.json', '../../data/tavg_vec2raster_ne.json']"
      ]
     },
     "execution_count": 2,
     "metadata": {},
     "output_type": "execute_result"
    }
   ],
   "source": [
    "data_folder = \"../../data/\"\n",
    "files_to_load = glob.glob(data_folder + \"*_vec2raster_ne.json\")\n",
    "files_to_load\n"
   ]
  },
  {
   "cell_type": "code",
   "execution_count": 3,
   "id": "b5909a05-8f11-4c5e-93d7-371261cb0027",
   "metadata": {},
   "outputs": [],
   "source": [
    "with open('../../data/tavg_vec2raster_ne.json', 'r') as load_from_json:\n",
    "    tavg_json = json.load(load_from_json)\n",
    "\n",
    "with open('../../data/precip_vec2raster_ne.json', 'r') as load_from_json:\n",
    "    precip_json = json.load(load_from_json)\n"
   ]
  },
  {
   "cell_type": "code",
   "execution_count": 4,
   "id": "7f2f0634-7ae2-4d4a-a224-8723f5b1613d",
   "metadata": {},
   "outputs": [
    {
     "name": "stdout",
     "output_type": "stream",
     "text": [
      "805197\n",
      "805197\n"
     ]
    }
   ],
   "source": [
    "print(len(tavg_json[\"features\"]))\n",
    "print(len(precip_json[\"features\"]))\n"
   ]
  },
  {
   "cell_type": "code",
   "execution_count": 5,
   "id": "fea7ea26-f54c-4f2d-b91b-137122850a98",
   "metadata": {},
   "outputs": [
    {
     "data": {
      "text/plain": [
       "dict_keys(['type', 'features'])"
      ]
     },
     "execution_count": 5,
     "metadata": {},
     "output_type": "execute_result"
    }
   ],
   "source": [
    "tavg_json.keys()\n"
   ]
  },
  {
   "cell_type": "code",
   "execution_count": 6,
   "id": "16ed249c-ecb7-40cd-8052-dd970575fe47",
   "metadata": {},
   "outputs": [
    {
     "data": {
      "text/plain": [
       "'FeatureCollection'"
      ]
     },
     "execution_count": 6,
     "metadata": {},
     "output_type": "execute_result"
    }
   ],
   "source": [
    "tavg_json['type']"
   ]
  },
  {
   "cell_type": "code",
   "execution_count": 7,
   "id": "616769f8-1c76-471d-8dde-568e4e9d7a0c",
   "metadata": {},
   "outputs": [
    {
     "data": {
      "text/plain": [
       "{'id': '0',\n",
       " 'type': 'Feature',\n",
       " 'properties': {'id': '110',\n",
       "  'tavg_value': -25.803125381469727,\n",
       "  'tavg_color': '#6bacd0'},\n",
       " 'geometry': {'type': 'Polygon',\n",
       "  'coordinates': [[[-180.0, 71.66666666666669],\n",
       "    [-179.83333333333334, 71.66666666666669],\n",
       "    [-179.83333333333334, 71.50000000000001],\n",
       "    [-180.0, 71.50000000000001],\n",
       "    [-180.0, 71.66666666666669]]]}}"
      ]
     },
     "execution_count": 7,
     "metadata": {},
     "output_type": "execute_result"
    }
   ],
   "source": [
    "tavg = tavg_json[\"features\"][0]\n",
    "tavg\n"
   ]
  },
  {
   "cell_type": "code",
   "execution_count": 8,
   "id": "03300a57-e25b-4529-9d9b-f33976a28071",
   "metadata": {},
   "outputs": [
    {
     "name": "stdout",
     "output_type": "stream",
     "text": [
      "Done merging 100000 features.\n",
      "Done merging 200000 features.\n",
      "Done merging 300000 features.\n",
      "Done merging 400000 features.\n",
      "Done merging 500000 features.\n",
      "Done merging 600000 features.\n",
      "Done merging 700000 features.\n",
      "Done merging 800000 features.\n",
      "\n",
      "Time to complete: 0.58840s\n"
     ]
    }
   ],
   "source": [
    "start = timeit.default_timer()\n",
    "#---------------------------------------------------------------------------\n",
    "\n",
    "combined_list = []\n",
    "\n",
    "for index in range(0, len(tavg_json[\"features\"])):\n",
    "    if(index % 100000 == 0 and index != 0):\n",
    "        print(f\"Done merging {index} features.\")\n",
    "    \n",
    "    tavg = tavg_json[\"features\"][index]\n",
    "    precip = precip_json[\"features\"][index]\n",
    "\n",
    "    assert(tavg['id'] == precip['id'])\n",
    "\n",
    "    combined = {\n",
    "        'id': index,\n",
    "        'type': tavg['type'],\n",
    "        'properties': {\n",
    "            'id': tavg['properties']['id'],\n",
    "            'tavg_value': tavg['properties']['tavg_value'],\n",
    "            'tavg_color': tavg['properties']['tavg_color'],\n",
    "            'precip_value': precip['properties']['precip_value'],\n",
    "            'precip_color': precip['properties']['precip_color'],\n",
    "        },\n",
    "        'geometry': tavg['geometry']\n",
    "    }\n",
    "    combined_list.append(combined)\n",
    "\n",
    "#---------------------------------------------------------------------------\n",
    "end = timeit.default_timer()\n",
    "print()\n",
    "print(f\"Time to complete: {(end - start):.5f}s\")\n"
   ]
  },
  {
   "cell_type": "code",
   "execution_count": 9,
   "id": "f22e1cdd-0323-4c85-b88d-b7c588712429",
   "metadata": {},
   "outputs": [
    {
     "name": "stdout",
     "output_type": "stream",
     "text": [
      "805197\n"
     ]
    }
   ],
   "source": [
    "print(len(combined_list))\n",
    "assert(len(combined_list) == len(tavg_json[\"features\"]))\n"
   ]
  },
  {
   "cell_type": "code",
   "execution_count": 10,
   "id": "c1394925-4a86-4588-984a-11030c7a35ff",
   "metadata": {},
   "outputs": [
    {
     "data": {
      "text/plain": [
       "True"
      ]
     },
     "execution_count": 10,
     "metadata": {},
     "output_type": "execute_result"
    }
   ],
   "source": [
    "\"geometry\" in combined_list[0].keys()\n"
   ]
  },
  {
   "cell_type": "code",
   "execution_count": 11,
   "id": "88891d74-67b3-4723-94f4-be1622092829",
   "metadata": {},
   "outputs": [
    {
     "data": {
      "text/plain": [
       "{'id': '110',\n",
       " 'tavg_value': -25.803125381469727,\n",
       " 'tavg_color': '#6bacd0',\n",
       " 'precip_value': 6.0,\n",
       " 'precip_color': '#f5f9fe'}"
      ]
     },
     "execution_count": 11,
     "metadata": {},
     "output_type": "execute_result"
    }
   ],
   "source": [
    "combined_list[0][\"properties\"]\n"
   ]
  },
  {
   "cell_type": "code",
   "execution_count": 12,
   "id": "22f578b4-790a-4133-af70-e7670b3781f3",
   "metadata": {},
   "outputs": [],
   "source": [
    "# create a dict that we can save to a json file that still maintains\n",
    "# header information of input file\n",
    "combined_dict = dict()\n",
    "combined_dict[\"type\"] = tavg_json[\"type\"]\n",
    "combined_dict[\"variables\"] = [\"tavg\", \"vpd\"]\n",
    "combined_dict[\"features\"] = combined_list\n"
   ]
  },
  {
   "cell_type": "code",
   "execution_count": 13,
   "id": "dee1560f-64ca-4331-acca-b95c75d20963",
   "metadata": {},
   "outputs": [],
   "source": [
    "# https://stackoverflow.com/questions/49865442/write-into-a-js-file-without-passing-in-string-quotes-in-python\n",
    "# varname = \"const raster_grid = \"\n",
    "# with open('../../data/raster_grid_ne.js', 'w') as outfile:\n",
    "#     outfile.write(varname)\n",
    "#     # write the JSON value after the variable declaration\n",
    "#     outfile.write(json.dumps(combined_dict))\n",
    "\n",
    "# with open('../../data/raster_grid_ne.json', 'w') as outfile:\n",
    "#     outfile.write(json.dumps(combined_dict))\n"
   ]
  },
  {
   "cell_type": "code",
   "execution_count": 14,
   "id": "34537c98-6c35-41fe-aa83-d14d17e08ee6",
   "metadata": {},
   "outputs": [
    {
     "name": "stdout",
     "output_type": "stream",
     "text": [
      "The file is 342.092 MB\n"
     ]
    }
   ],
   "source": [
    "# the individual files are around ~200-300 MB\n",
    "# the merged file for 2 variables is ~342 MB\n",
    "# however, it does mean that our file will always be limited by the geometry field\n",
    "filesize = np.round(os.path.getsize(\"../../data/raster_grid_ne.js\") / 1e6, 3)\n",
    "print(f\"The file is {filesize} MB\")\n"
   ]
  },
  {
   "cell_type": "code",
   "execution_count": null,
   "id": "4a85c2e2-8dbf-40be-ad14-41cfcd2279a0",
   "metadata": {},
   "outputs": [],
   "source": []
  }
 ],
 "metadata": {
  "kernelspec": {
   "display_name": "Python 3 (ipykernel)",
   "language": "python",
   "name": "python3"
  },
  "language_info": {
   "codemirror_mode": {
    "name": "ipython",
    "version": 3
   },
   "file_extension": ".py",
   "mimetype": "text/x-python",
   "name": "python",
   "nbconvert_exporter": "python",
   "pygments_lexer": "ipython3",
   "version": "3.10.13"
  }
 },
 "nbformat": 4,
 "nbformat_minor": 5
}
